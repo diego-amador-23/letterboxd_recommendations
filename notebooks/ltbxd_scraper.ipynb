{
 "cells": [
  {
   "cell_type": "code",
   "execution_count": 1,
   "metadata": {},
   "outputs": [],
   "source": [
    "import pandas as pd\n",
    "\n",
    "ltbxd_raw = pd.read_csv(r'../data\\raw\\letterboxd-gbmonteiro-2024-05-14-22-51-utc\\watched.csv')"
   ]
  },
  {
   "cell_type": "code",
   "execution_count": 2,
   "metadata": {},
   "outputs": [
    {
     "name": "stdout",
     "output_type": "stream",
     "text": [
      "<class 'pandas.core.frame.DataFrame'>\n",
      "RangeIndex: 941 entries, 0 to 940\n",
      "Data columns (total 4 columns):\n",
      " #   Column          Non-Null Count  Dtype \n",
      "---  ------          --------------  ----- \n",
      " 0   Date            941 non-null    object\n",
      " 1   Name            941 non-null    object\n",
      " 2   Year            941 non-null    int64 \n",
      " 3   Letterboxd URI  941 non-null    object\n",
      "dtypes: int64(1), object(3)\n",
      "memory usage: 29.5+ KB\n"
     ]
    }
   ],
   "source": [
    "ltbxd_raw.info()"
   ]
  },
  {
   "cell_type": "markdown",
   "metadata": {},
   "source": [
    "## Datascraper - Adicionando os dados"
   ]
  },
  {
   "cell_type": "code",
   "execution_count": 7,
   "metadata": {},
   "outputs": [
    {
     "name": "stdout",
     "output_type": "stream",
     "text": [
      "Title of webpage 0: ‎Barbie (2023) directed by Greta Gerwig • Reviews, film + cast • Letterboxd\n",
      "Director: Greta Gerwig\n"
     ]
    }
   ],
   "source": [
    "from bs4 import BeautifulSoup\n",
    "import requests\n",
    "import pandas as pd\n",
    "\n",
    "# Assuming ltbxd_raw is your DataFrame\n",
    "for index, row in ltbxd_raw.iterrows():\n",
    "    url = row['Letterboxd URI']\n",
    "    \n",
    "    # Add user-agent headers to mimic a browser request\n",
    "    headers = {\n",
    "        'User-Agent': 'Mozilla/5.0 (Windows NT 10.0; Win64; x64) AppleWebKit/537.36 (KHTML, like Gecko) Chrome/58.0.3029.110 Safari/537.3'\n",
    "    }\n",
    "    \n",
    "    # Sending a GET request to the URL\n",
    "    response = requests.get(url, headers=headers)\n",
    "    \n",
    "    # Checking if the request was successful (status code 200)\n",
    "    if response.status_code == 200:\n",
    "        # Parsing the HTML content of the response\n",
    "        soup = BeautifulSoup(response.content, 'html.parser')\n",
    "        \n",
    "        # Now you can work with the parsed HTML content\n",
    "        # For example, you can extract specific information from the webpage\n",
    "        \n",
    "        # For demonstration, let's print the title of the webpage\n",
    "        print(f\"Title of webpage {index}: {soup.title.string}\")\n",
    "        # Parse the HTML\n",
    "\n",
    "        # Find the span with class 'directorlist'\n",
    "        director_span = soup.find('span', class_='directorlist')\n",
    "\n",
    "        # Extract the director's name from the span\n",
    "        director_name = director_span.text.strip()\n",
    "\n",
    "        print(\"Director:\", director_name)\n",
    "        break\n",
    "    else:\n",
    "        print(f\"Failed to fetch data from URL {url} with status code {response.status_code}\")\n"
   ]
  },
  {
   "cell_type": "code",
   "execution_count": null,
   "metadata": {},
   "outputs": [],
   "source": []
  }
 ],
 "metadata": {
  "kernelspec": {
   "display_name": "letterboxd_projeto",
   "language": "python",
   "name": "python3"
  },
  "language_info": {
   "codemirror_mode": {
    "name": "ipython",
    "version": 3
   },
   "file_extension": ".py",
   "mimetype": "text/x-python",
   "name": "python",
   "nbconvert_exporter": "python",
   "pygments_lexer": "ipython3",
   "version": "3.11.9"
  }
 },
 "nbformat": 4,
 "nbformat_minor": 2
}
