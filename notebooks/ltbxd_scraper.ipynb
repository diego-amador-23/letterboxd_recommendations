{
 "cells": [
  {
   "cell_type": "code",
   "execution_count": 20,
   "metadata": {},
   "outputs": [],
   "source": [
    "from bs4 import BeautifulSoup\n",
    "import requests\n",
    "import pandas as pd\n",
    "import numpy as np\n",
    "\n",
    "ltbxd_raw = pd.read_csv(r'../data\\raw\\letterboxd-gbmonteiro-2024-05-14-22-51-utc\\watched.csv')"
   ]
  },
  {
   "cell_type": "code",
   "execution_count": 21,
   "metadata": {},
   "outputs": [
    {
     "name": "stdout",
     "output_type": "stream",
     "text": [
      "<class 'pandas.core.frame.DataFrame'>\n",
      "RangeIndex: 941 entries, 0 to 940\n",
      "Data columns (total 4 columns):\n",
      " #   Column          Non-Null Count  Dtype \n",
      "---  ------          --------------  ----- \n",
      " 0   Date            941 non-null    object\n",
      " 1   Name            941 non-null    object\n",
      " 2   Year            941 non-null    int64 \n",
      " 3   Letterboxd URI  941 non-null    object\n",
      "dtypes: int64(1), object(3)\n",
      "memory usage: 29.5+ KB\n"
     ]
    }
   ],
   "source": [
    "ltbxd_raw.info()"
   ]
  },
  {
   "cell_type": "markdown",
   "metadata": {},
   "source": [
    "## Datascraper - Adicionando os dados"
   ]
  },
  {
   "cell_type": "code",
   "execution_count": 22,
   "metadata": {},
   "outputs": [
    {
     "name": "stdout",
     "output_type": "stream",
     "text": [
      "Title of webpage 0: ‎Barbie (2023) directed by Greta Gerwig • Reviews, film + cast • Letterboxd\n"
     ]
    },
    {
     "name": "stderr",
     "output_type": "stream",
     "text": [
      "C:\\Users\\guibe\\AppData\\Local\\Temp\\ipykernel_11088\\893918509.py:35: FutureWarning: Setting an item of incompatible dtype is deprecated and will raise an error in a future version of pandas. Value 'Greta Gerwig' has dtype incompatible with float64, please explicitly cast to a compatible dtype first.\n",
      "  ltbxd_raw.at[index, 'Director'] = director_name\n",
      "C:\\Users\\guibe\\AppData\\Local\\Temp\\ipykernel_11088\\893918509.py:53: FutureWarning: Setting an item of incompatible dtype is deprecated and will raise an error in a future version of pandas. Value 'Comedy; Adventure' has dtype incompatible with float64, please explicitly cast to a compatible dtype first.\n",
      "  ltbxd_raw.at[index, 'Genres'] = '; '.join(genres)\n"
     ]
    }
   ],
   "source": [
    "ltbxd_raw['Director'] = np.nan\n",
    "\n",
    "ltbxd_raw['Genres'] = np.nan\n",
    "\n",
    "# Assuming ltbxd_raw is your DataFrame\n",
    "for index, row in ltbxd_raw.iterrows():\n",
    "    url = row['Letterboxd URI']\n",
    "    \n",
    "    # Add user-agent headers to mimic a browser request\n",
    "    headers = {\n",
    "        'User-Agent': 'Mozilla/5.0 (Windows NT 10.0; Win64; x64) AppleWebKit/537.36 (KHTML, like Gecko) Chrome/58.0.3029.110 Safari/537.3'\n",
    "    }\n",
    "    \n",
    "    # Sending a GET request to the URL\n",
    "    response = requests.get(url, headers=headers)\n",
    "    \n",
    "    # Checking if the request was successful (status code 200)\n",
    "    if response.status_code == 200:\n",
    "        # Parsing the HTML content of the response\n",
    "        soup = BeautifulSoup(response.content, 'html.parser')\n",
    "        \n",
    "        # Now you can work with the parsed HTML content\n",
    "        # For example, you can extract specific information from the webpage\n",
    "        \n",
    "        # For demonstration, let's print the title of the webpage\n",
    "        print(f\"Title of webpage {index}: {soup.title.string}\")\n",
    "        # Parse the HTML\n",
    "\n",
    "        # Find the span with class 'directorlist'\n",
    "        director_span = soup.find('span', class_='directorlist')\n",
    "\n",
    "        # Extract the director's name from the span\n",
    "        director_name = director_span.text.strip()\n",
    "        \n",
    "        ltbxd_raw.at[index, 'Director'] = director_name\n",
    "        \n",
    "        # Extract genres from the specific section\n",
    "        genre_section = soup.find('div', id='tab-genres')\n",
    "        if genre_section:\n",
    "            genre_tags = genre_section.find_all('a', class_='text-slug')\n",
    "            genres = [tag.text for tag in genre_tags if '/films/genre/' in tag['href']]\n",
    "        else:\n",
    "            genres = [\"Genres not found\"]\n",
    "        \n",
    "        # Extract themes from the specific section\n",
    "        if genre_section:\n",
    "            theme_tags = genre_section.find_all('a', class_='text-slug')\n",
    "            themes = [tag.text for tag in theme_tags if '/films/theme/' in tag['href'] or '/films/mini-theme/' in tag['href']]\n",
    "        else:\n",
    "            themes = [\"Themes not found\"]\n",
    "        \n",
    "        # Update the DataFrame with the genres and themes\n",
    "        ltbxd_raw.at[index, 'Genres'] = '; '.join(genres)\n",
    "        ltbxd_raw.at[index, 'Themes'] = '; '.join(themes)\n",
    "    else:\n",
    "        print(f\"Failed to fetch data from URL {url} with status code {response.status_code}\")"
   ]
  },
  {
   "cell_type": "code",
   "execution_count": 24,
   "metadata": {},
   "outputs": [],
   "source": [
    "#adding ratings\n",
    "ratings_raw =  pd.read_csv(r'../data\\raw\\letterboxd-gbmonteiro-2024-05-14-22-51-utc\\ratings.csv')\n",
    "\n",
    "ltbxd_wtchd = ltbxd_raw.merge(ratings_raw[['Name','Rating']],how='left',on='Name')"
   ]
  },
  {
   "cell_type": "markdown",
   "metadata": {},
   "source": [
    "## PG connection - Adicionando dados no postgres"
   ]
  },
  {
   "cell_type": "markdown",
   "metadata": {},
   "source": []
  }
 ],
 "metadata": {
  "kernelspec": {
   "display_name": "letterboxd_projeto",
   "language": "python",
   "name": "python3"
  },
  "language_info": {
   "codemirror_mode": {
    "name": "ipython",
    "version": 3
   },
   "file_extension": ".py",
   "mimetype": "text/x-python",
   "name": "python",
   "nbconvert_exporter": "python",
   "pygments_lexer": "ipython3",
   "version": "3.11.9"
  }
 },
 "nbformat": 4,
 "nbformat_minor": 2
}
