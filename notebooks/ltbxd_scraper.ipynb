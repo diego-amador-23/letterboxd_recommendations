{
 "cells": [
  {
   "cell_type": "markdown",
   "metadata": {},
   "source": [
    "## Wishlist\n",
    "\n",
    "- Ir completando as informações de cada filme comparando com o banco PG\n",
    "- Adicionar atores no data scraper\n",
    "- Adicionar leitor de zip"
   ]
  },
  {
   "cell_type": "markdown",
   "metadata": {},
   "source": [
    "## Pegando dados do PG"
   ]
  },
  {
   "cell_type": "code",
   "execution_count": 1,
   "metadata": {},
   "outputs": [
    {
     "name": "stdout",
     "output_type": "stream",
     "text": [
      "Empty DataFrame\n",
      "Columns: [date, name, year, ltbxd_url, director, genres, themes, actors]\n",
      "Index: []\n"
     ]
    }
   ],
   "source": [
    "from bs4 import BeautifulSoup\n",
    "import requests\n",
    "import pandas as pd\n",
    "import numpy as np\n",
    "from PgConnection import ReturningDF\n",
    "\n",
    "# Define the query to fetch data\n",
    "query = 'SELECT * FROM public.moviesdb'\n",
    "\n",
    "# Call the ReturningDF function\n",
    "ltbd_pg = ReturningDF(query)\n",
    "\n",
    "# Check the result\n",
    "if ltbd_pg is not None:\n",
    "    print(ltbd_pg.head())\n",
    "else:\n",
    "    print(\"Failed to retrieve data.\")\n"
   ]
  },
  {
   "cell_type": "markdown",
   "metadata": {},
   "source": [
    "## Datascraper - Adicionando os dados"
   ]
  },
  {
   "cell_type": "code",
   "execution_count": 2,
   "metadata": {},
   "outputs": [],
   "source": [
    "ltbxd_scp = pd.read_csv(r'../data\\raw\\letterboxd-gbmonteiro-2024-05-14-22-51-utc\\watched.csv')"
   ]
  },
  {
   "cell_type": "code",
   "execution_count": 3,
   "metadata": {},
   "outputs": [
    {
     "name": "stdout",
     "output_type": "stream",
     "text": [
      "<class 'pandas.core.frame.DataFrame'>\n",
      "RangeIndex: 941 entries, 0 to 940\n",
      "Data columns (total 4 columns):\n",
      " #   Column          Non-Null Count  Dtype \n",
      "---  ------          --------------  ----- \n",
      " 0   Date            941 non-null    object\n",
      " 1   Name            941 non-null    object\n",
      " 2   Year            941 non-null    int64 \n",
      " 3   Letterboxd URI  941 non-null    object\n",
      "dtypes: int64(1), object(3)\n",
      "memory usage: 29.5+ KB\n"
     ]
    }
   ],
   "source": [
    "ltbxd_scp.info()"
   ]
  },
  {
   "cell_type": "code",
   "execution_count": 6,
   "metadata": {},
   "outputs": [
    {
     "name": "stdout",
     "output_type": "stream",
     "text": [
      "Title of webpage 0: ‎Barbie (2023) directed by Greta Gerwig • Reviews, film + cast • Letterboxd\n"
     ]
    },
    {
     "ename": "TypeError",
     "evalue": "Connection.execute() got an unexpected keyword argument 'Date'",
     "output_type": "error",
     "traceback": [
      "\u001b[1;31m---------------------------------------------------------------------------\u001b[0m",
      "\u001b[1;31mTypeError\u001b[0m                                 Traceback (most recent call last)",
      "Cell \u001b[1;32mIn[6], line 62\u001b[0m\n\u001b[0;32m     58\u001b[0m     ltbxd_scp\u001b[38;5;241m.\u001b[39mat[index, \u001b[38;5;124m'\u001b[39m\u001b[38;5;124mThemes\u001b[39m\u001b[38;5;124m'\u001b[39m] \u001b[38;5;241m=\u001b[39m \u001b[38;5;124m'\u001b[39m\u001b[38;5;124m; \u001b[39m\u001b[38;5;124m'\u001b[39m\u001b[38;5;241m.\u001b[39mjoin(themes)\n\u001b[0;32m     61\u001b[0m     ltbxd_scp[\u001b[38;5;124m'\u001b[39m\u001b[38;5;124mDate\u001b[39m\u001b[38;5;124m'\u001b[39m] \u001b[38;5;241m=\u001b[39m pd\u001b[38;5;241m.\u001b[39mto_datetime(ltbxd_scp[\u001b[38;5;124m'\u001b[39m\u001b[38;5;124mDate\u001b[39m\u001b[38;5;124m'\u001b[39m]) \n\u001b[1;32m---> 62\u001b[0m     \u001b[43mAddRowToTable\u001b[49m\u001b[43m(\u001b[49m\u001b[38;5;124;43m'\u001b[39;49m\u001b[38;5;124;43mpublic.moviesdb\u001b[39;49m\u001b[38;5;124;43m'\u001b[39;49m\u001b[43m,\u001b[49m\u001b[43m \u001b[49m\u001b[43mltbxd_scp\u001b[49m\u001b[38;5;241;43m.\u001b[39;49m\u001b[43miloc\u001b[49m\u001b[43m[\u001b[49m\u001b[43mindex\u001b[49m\u001b[43m]\u001b[49m\u001b[43m)\u001b[49m\n\u001b[0;32m     63\u001b[0m \u001b[38;5;28;01melse\u001b[39;00m:\n\u001b[0;32m     64\u001b[0m     \u001b[38;5;28mprint\u001b[39m(\u001b[38;5;124mf\u001b[39m\u001b[38;5;124m\"\u001b[39m\u001b[38;5;124mFailed to fetch data from URL \u001b[39m\u001b[38;5;132;01m{\u001b[39;00murl\u001b[38;5;132;01m}\u001b[39;00m\u001b[38;5;124m with status code \u001b[39m\u001b[38;5;132;01m{\u001b[39;00mresponse\u001b[38;5;241m.\u001b[39mstatus_code\u001b[38;5;132;01m}\u001b[39;00m\u001b[38;5;124m\"\u001b[39m)\n",
      "File \u001b[1;32mc:\\Users\\guibe\\anaconda3\\envs\\letterboxd_projeto\\letterboxd_recommendation\\notebooks\\PgConnection.py:80\u001b[0m, in \u001b[0;36mAddRowToTable\u001b[1;34m(table_name, df_row)\u001b[0m\n\u001b[0;32m     77\u001b[0m         sql \u001b[38;5;241m=\u001b[39m text(\u001b[38;5;124mf\u001b[39m\u001b[38;5;124m\"\u001b[39m\u001b[38;5;124mINSERT INTO \u001b[39m\u001b[38;5;132;01m{\u001b[39;00mtable_name\u001b[38;5;132;01m}\u001b[39;00m\u001b[38;5;124m (\u001b[39m\u001b[38;5;132;01m{\u001b[39;00mcolumns\u001b[38;5;132;01m}\u001b[39;00m\u001b[38;5;124m) VALUES (\u001b[39m\u001b[38;5;132;01m{\u001b[39;00mvalues\u001b[38;5;132;01m}\u001b[39;00m\u001b[38;5;124m)\u001b[39m\u001b[38;5;124m\"\u001b[39m)\n\u001b[0;32m     79\u001b[0m         \u001b[38;5;66;03m# Execute the SQL statement\u001b[39;00m\n\u001b[1;32m---> 80\u001b[0m         \u001b[43mconnection\u001b[49m\u001b[38;5;241;43m.\u001b[39;49m\u001b[43mexecute\u001b[49m\u001b[43m(\u001b[49m\u001b[43msql\u001b[49m\u001b[43m,\u001b[49m\u001b[43m \u001b[49m\u001b[38;5;241;43m*\u001b[39;49m\u001b[38;5;241;43m*\u001b[39;49m\u001b[43mrow_dict\u001b[49m\u001b[43m)\u001b[49m\n\u001b[0;32m     82\u001b[0m     logging\u001b[38;5;241m.\u001b[39minfo(\u001b[38;5;124mf\u001b[39m\u001b[38;5;124m'\u001b[39m\u001b[38;5;124mRow added to \u001b[39m\u001b[38;5;132;01m{\u001b[39;00mtable_name\u001b[38;5;132;01m}\u001b[39;00m\u001b[38;5;124m table successfully.\u001b[39m\u001b[38;5;124m'\u001b[39m)\n\u001b[0;32m     83\u001b[0m \u001b[38;5;28;01mexcept\u001b[39;00m SQLAlchemyError \u001b[38;5;28;01mas\u001b[39;00m e:\n",
      "\u001b[1;31mTypeError\u001b[0m: Connection.execute() got an unexpected keyword argument 'Date'"
     ]
    }
   ],
   "source": [
    "from PgConnection import AddRowToTable\n",
    "\n",
    "ltbxd_scp['Director'] = np.nan\n",
    "ltbxd_scp['Director'] = ltbxd_scp['Director'].astype(object)\n",
    "\n",
    "ltbxd_scp['Genres'] = np.nan\n",
    "ltbxd_scp['Genres'] = ltbxd_scp['Genres'].astype(object)\n",
    "\n",
    "# Assuming ltbxd_raw is your DataFrame\n",
    "for index, row in ltbxd_scp.iterrows():\n",
    "    url = row['Letterboxd URI']\n",
    "    \n",
    "    # Add user-agent headers to mimic a browser request\n",
    "    headers = {\n",
    "        'User-Agent': 'Mozilla/5.0 (Windows NT 10.0; Win64; x64) AppleWebKit/537.36 (KHTML, like Gecko) Chrome/58.0.3029.110 Safari/537.3'\n",
    "    }\n",
    "    \n",
    "    # Sending a GET request to the URL\n",
    "    response = requests.get(url, headers=headers)\n",
    "    \n",
    "    # Checking if the request was successful (status code 200)\n",
    "    if response.status_code == 200:\n",
    "        # Parsing the HTML content of the response\n",
    "        soup = BeautifulSoup(response.content, 'html.parser')\n",
    "        \n",
    "        # Now you can work with the parsed HTML content\n",
    "        # For example, you can extract specific information from the webpage\n",
    "        \n",
    "        # For demonstration, let's print the title of the webpage\n",
    "        print(f\"Title of webpage {index}: {soup.title.string}\")\n",
    "        # Parse the HTML\n",
    "\n",
    "        # Find the span with class 'directorlist'\n",
    "        director_span = soup.find('span', class_='directorlist')\n",
    "\n",
    "        # Extract the director's name from the span\n",
    "        director_name = director_span.text.strip()\n",
    "        \n",
    "        ltbxd_scp.at[index, 'Director'] = director_name\n",
    "        \n",
    "        # Extract genres from the specific section\n",
    "        genre_section = soup.find('div', id='tab-genres')\n",
    "        if genre_section:\n",
    "            genre_tags = genre_section.find_all('a', class_='text-slug')\n",
    "            genres = [tag.text for tag in genre_tags if '/films/genre/' in tag['href']]\n",
    "        else:\n",
    "            genres = [\"Genres not found\"]\n",
    "        \n",
    "        # Extract themes from the specific section\n",
    "        if genre_section:\n",
    "            theme_tags = genre_section.find_all('a', class_='text-slug')\n",
    "            themes = [tag.text for tag in theme_tags if '/films/theme/' in tag['href'] or '/films/mini-theme/' in tag['href']]\n",
    "        else:\n",
    "            themes = [\"Themes not found\"]\n",
    "        \n",
    "        # Update the DataFrame with the genres and themes\n",
    "        ltbxd_scp.at[index, 'Genres'] = '; '.join(genres)\n",
    "        ltbxd_scp.at[index, 'Themes'] = '; '.join(themes)\n",
    "\n",
    "        \n",
    "        ltbxd_scp['Date'] = pd.to_datetime(ltbxd_scp['Date']) \n",
    "        AddRowToTable('public.moviesdb', ltbxd_scp.iloc[index])\n",
    "    else:\n",
    "        print(f\"Failed to fetch data from URL {url} with status code {response.status_code}\")"
   ]
  },
  {
   "cell_type": "code",
   "execution_count": 24,
   "metadata": {},
   "outputs": [],
   "source": [
    "#adding ratings\n",
    "ratings_raw =  pd.read_csv(r'../data\\raw\\letterboxd-gbmonteiro-2024-05-14-22-51-utc\\ratings.csv')\n",
    "\n",
    "ltbxd_wtchd = ltbxd_scp.merge(ratings_raw[['Name','Rating']],how='left',on='Name')"
   ]
  },
  {
   "cell_type": "markdown",
   "metadata": {},
   "source": [
    "## PG connection - Adicionando dados no postgres"
   ]
  },
  {
   "cell_type": "markdown",
   "metadata": {},
   "source": []
  }
 ],
 "metadata": {
  "kernelspec": {
   "display_name": "letterboxd_projeto",
   "language": "python",
   "name": "python3"
  },
  "language_info": {
   "codemirror_mode": {
    "name": "ipython",
    "version": 3
   },
   "file_extension": ".py",
   "mimetype": "text/x-python",
   "name": "python",
   "nbconvert_exporter": "python",
   "pygments_lexer": "ipython3",
   "version": "3.11.9"
  }
 },
 "nbformat": 4,
 "nbformat_minor": 2
}
